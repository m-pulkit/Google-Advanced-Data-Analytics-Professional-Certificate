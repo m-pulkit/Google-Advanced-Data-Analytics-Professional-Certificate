{
 "cells": [
  {
   "cell_type": "markdown",
   "id": "715bc2ab",
   "metadata": {},
   "source": [
    "# Week 1: Initialization and Histplot"
   ]
  },
  {
   "cell_type": "code",
   "execution_count": 1,
   "id": "8c805238",
   "metadata": {},
   "outputs": [],
   "source": [
    "import numpy as np\n",
    "import pandas as pd\n",
    "import matplotlib.pyplot as plt"
   ]
  },
  {
   "cell_type": "code",
   "execution_count": 2,
   "id": "30f9c2eb",
   "metadata": {},
   "outputs": [
    {
     "name": "stdout",
     "output_type": "stream",
     "text": [
      "<class 'pandas.core.frame.DataFrame'>\n",
      "RangeIndex: 680 entries, 0 to 679\n",
      "Data columns (total 7 columns):\n",
      " #   Column      Non-Null Count  Dtype  \n",
      "---  ------      --------------  -----  \n",
      " 0   DISTNAME    680 non-null    object \n",
      " 1   STATNAME    680 non-null    object \n",
      " 2   BLOCKS      680 non-null    int64  \n",
      " 3   VILLAGES    680 non-null    int64  \n",
      " 4   CLUSTERS    680 non-null    int64  \n",
      " 5   TOTPOPULAT  634 non-null    float64\n",
      " 6   OVERALL_LI  634 non-null    float64\n",
      "dtypes: float64(2), int64(3), object(2)\n",
      "memory usage: 37.3+ KB\n",
      "None\n"
     ]
    },
    {
     "data": {
      "text/html": [
       "<div>\n",
       "<style scoped>\n",
       "    .dataframe tbody tr th:only-of-type {\n",
       "        vertical-align: middle;\n",
       "    }\n",
       "\n",
       "    .dataframe tbody tr th {\n",
       "        vertical-align: top;\n",
       "    }\n",
       "\n",
       "    .dataframe thead th {\n",
       "        text-align: right;\n",
       "    }\n",
       "</style>\n",
       "<table border=\"1\" class=\"dataframe\">\n",
       "  <thead>\n",
       "    <tr style=\"text-align: right;\">\n",
       "      <th></th>\n",
       "      <th>DISTNAME</th>\n",
       "      <th>STATNAME</th>\n",
       "      <th>BLOCKS</th>\n",
       "      <th>VILLAGES</th>\n",
       "      <th>CLUSTERS</th>\n",
       "      <th>TOTPOPULAT</th>\n",
       "      <th>OVERALL_LI</th>\n",
       "    </tr>\n",
       "  </thead>\n",
       "  <tbody>\n",
       "    <tr>\n",
       "      <th>0</th>\n",
       "      <td>KUPWARA</td>\n",
       "      <td>JAMMU &amp; KASHMIR</td>\n",
       "      <td>13</td>\n",
       "      <td>391</td>\n",
       "      <td>104</td>\n",
       "      <td>875564.0</td>\n",
       "      <td>66.92</td>\n",
       "    </tr>\n",
       "    <tr>\n",
       "      <th>1</th>\n",
       "      <td>BARAMULA</td>\n",
       "      <td>JAMMU &amp; KASHMIR</td>\n",
       "      <td>18</td>\n",
       "      <td>678</td>\n",
       "      <td>144</td>\n",
       "      <td>1015503.0</td>\n",
       "      <td>66.93</td>\n",
       "    </tr>\n",
       "    <tr>\n",
       "      <th>2</th>\n",
       "      <td>SRINAGAR</td>\n",
       "      <td>JAMMU &amp; KASHMIR</td>\n",
       "      <td>8</td>\n",
       "      <td>94</td>\n",
       "      <td>65</td>\n",
       "      <td>1269751.0</td>\n",
       "      <td>71.21</td>\n",
       "    </tr>\n",
       "    <tr>\n",
       "      <th>3</th>\n",
       "      <td>BADGAM</td>\n",
       "      <td>JAMMU &amp; KASHMIR</td>\n",
       "      <td>13</td>\n",
       "      <td>523</td>\n",
       "      <td>104</td>\n",
       "      <td>735753.0</td>\n",
       "      <td>57.98</td>\n",
       "    </tr>\n",
       "    <tr>\n",
       "      <th>4</th>\n",
       "      <td>PULWAMA</td>\n",
       "      <td>JAMMU &amp; KASHMIR</td>\n",
       "      <td>8</td>\n",
       "      <td>359</td>\n",
       "      <td>64</td>\n",
       "      <td>570060.0</td>\n",
       "      <td>65.00</td>\n",
       "    </tr>\n",
       "  </tbody>\n",
       "</table>\n",
       "</div>"
      ],
      "text/plain": [
       "   DISTNAME         STATNAME  BLOCKS  VILLAGES  CLUSTERS  TOTPOPULAT  \\\n",
       "0   KUPWARA  JAMMU & KASHMIR      13       391       104    875564.0   \n",
       "1  BARAMULA  JAMMU & KASHMIR      18       678       144   1015503.0   \n",
       "2  SRINAGAR  JAMMU & KASHMIR       8        94        65   1269751.0   \n",
       "3    BADGAM  JAMMU & KASHMIR      13       523       104    735753.0   \n",
       "4   PULWAMA  JAMMU & KASHMIR       8       359        64    570060.0   \n",
       "\n",
       "   OVERALL_LI  \n",
       "0       66.92  \n",
       "1       66.93  \n",
       "2       71.21  \n",
       "3       57.98  \n",
       "4       65.00  "
      ]
     },
     "execution_count": 2,
     "metadata": {},
     "output_type": "execute_result"
    }
   ],
   "source": [
    "df = pd.read_csv(\"D:\\\\Pulkit\\\\2017 Class-XII\\\\Google Advanced Dara Analytics Professional Certificate\\\\4 - The Power of Statistics\\\\Datasets\\\\education_districtwise_2015_16.csv\")\n",
    "print(df.info())\n",
    "df.head()"
   ]
  },
  {
   "cell_type": "code",
   "execution_count": 3,
   "id": "aa88a62e",
   "metadata": {},
   "outputs": [
    {
     "data": {
      "text/html": [
       "<div>\n",
       "<style scoped>\n",
       "    .dataframe tbody tr th:only-of-type {\n",
       "        vertical-align: middle;\n",
       "    }\n",
       "\n",
       "    .dataframe tbody tr th {\n",
       "        vertical-align: top;\n",
       "    }\n",
       "\n",
       "    .dataframe thead th {\n",
       "        text-align: right;\n",
       "    }\n",
       "</style>\n",
       "<table border=\"1\" class=\"dataframe\">\n",
       "  <thead>\n",
       "    <tr style=\"text-align: right;\">\n",
       "      <th></th>\n",
       "      <th>DISTNAME</th>\n",
       "      <th>STATNAME</th>\n",
       "      <th>BLOCKS</th>\n",
       "      <th>VILLAGES</th>\n",
       "      <th>CLUSTERS</th>\n",
       "      <th>TOTPOPULAT</th>\n",
       "      <th>OVERALL_LI</th>\n",
       "    </tr>\n",
       "  </thead>\n",
       "  <tbody>\n",
       "    <tr>\n",
       "      <th>count</th>\n",
       "      <td>680</td>\n",
       "      <td>680</td>\n",
       "      <td>680.000000</td>\n",
       "      <td>680.000000</td>\n",
       "      <td>680.000000</td>\n",
       "      <td>6.340000e+02</td>\n",
       "      <td>634.000000</td>\n",
       "    </tr>\n",
       "    <tr>\n",
       "      <th>unique</th>\n",
       "      <td>680</td>\n",
       "      <td>36</td>\n",
       "      <td>NaN</td>\n",
       "      <td>NaN</td>\n",
       "      <td>NaN</td>\n",
       "      <td>NaN</td>\n",
       "      <td>NaN</td>\n",
       "    </tr>\n",
       "    <tr>\n",
       "      <th>top</th>\n",
       "      <td>KUPWARA</td>\n",
       "      <td>UTTAR PRADESH</td>\n",
       "      <td>NaN</td>\n",
       "      <td>NaN</td>\n",
       "      <td>NaN</td>\n",
       "      <td>NaN</td>\n",
       "      <td>NaN</td>\n",
       "    </tr>\n",
       "    <tr>\n",
       "      <th>freq</th>\n",
       "      <td>1</td>\n",
       "      <td>75</td>\n",
       "      <td>NaN</td>\n",
       "      <td>NaN</td>\n",
       "      <td>NaN</td>\n",
       "      <td>NaN</td>\n",
       "      <td>NaN</td>\n",
       "    </tr>\n",
       "    <tr>\n",
       "      <th>mean</th>\n",
       "      <td>NaN</td>\n",
       "      <td>NaN</td>\n",
       "      <td>10.760294</td>\n",
       "      <td>874.614706</td>\n",
       "      <td>121.226471</td>\n",
       "      <td>1.899024e+06</td>\n",
       "      <td>73.395189</td>\n",
       "    </tr>\n",
       "    <tr>\n",
       "      <th>std</th>\n",
       "      <td>NaN</td>\n",
       "      <td>NaN</td>\n",
       "      <td>9.585360</td>\n",
       "      <td>622.711657</td>\n",
       "      <td>94.040172</td>\n",
       "      <td>1.547475e+06</td>\n",
       "      <td>10.098460</td>\n",
       "    </tr>\n",
       "    <tr>\n",
       "      <th>min</th>\n",
       "      <td>NaN</td>\n",
       "      <td>NaN</td>\n",
       "      <td>1.000000</td>\n",
       "      <td>6.000000</td>\n",
       "      <td>1.000000</td>\n",
       "      <td>7.948000e+03</td>\n",
       "      <td>37.220000</td>\n",
       "    </tr>\n",
       "    <tr>\n",
       "      <th>25%</th>\n",
       "      <td>NaN</td>\n",
       "      <td>NaN</td>\n",
       "      <td>5.000000</td>\n",
       "      <td>390.750000</td>\n",
       "      <td>56.750000</td>\n",
       "      <td>8.226940e+05</td>\n",
       "      <td>66.437500</td>\n",
       "    </tr>\n",
       "    <tr>\n",
       "      <th>50%</th>\n",
       "      <td>NaN</td>\n",
       "      <td>NaN</td>\n",
       "      <td>8.000000</td>\n",
       "      <td>785.500000</td>\n",
       "      <td>101.000000</td>\n",
       "      <td>1.564392e+06</td>\n",
       "      <td>73.490000</td>\n",
       "    </tr>\n",
       "    <tr>\n",
       "      <th>75%</th>\n",
       "      <td>NaN</td>\n",
       "      <td>NaN</td>\n",
       "      <td>13.000000</td>\n",
       "      <td>1204.250000</td>\n",
       "      <td>162.500000</td>\n",
       "      <td>2.587520e+06</td>\n",
       "      <td>80.815000</td>\n",
       "    </tr>\n",
       "    <tr>\n",
       "      <th>max</th>\n",
       "      <td>NaN</td>\n",
       "      <td>NaN</td>\n",
       "      <td>66.000000</td>\n",
       "      <td>3963.000000</td>\n",
       "      <td>592.000000</td>\n",
       "      <td>1.105413e+07</td>\n",
       "      <td>98.760000</td>\n",
       "    </tr>\n",
       "  </tbody>\n",
       "</table>\n",
       "</div>"
      ],
      "text/plain": [
       "       DISTNAME       STATNAME      BLOCKS     VILLAGES    CLUSTERS  \\\n",
       "count       680            680  680.000000   680.000000  680.000000   \n",
       "unique      680             36         NaN          NaN         NaN   \n",
       "top     KUPWARA  UTTAR PRADESH         NaN          NaN         NaN   \n",
       "freq          1             75         NaN          NaN         NaN   \n",
       "mean        NaN            NaN   10.760294   874.614706  121.226471   \n",
       "std         NaN            NaN    9.585360   622.711657   94.040172   \n",
       "min         NaN            NaN    1.000000     6.000000    1.000000   \n",
       "25%         NaN            NaN    5.000000   390.750000   56.750000   \n",
       "50%         NaN            NaN    8.000000   785.500000  101.000000   \n",
       "75%         NaN            NaN   13.000000  1204.250000  162.500000   \n",
       "max         NaN            NaN   66.000000  3963.000000  592.000000   \n",
       "\n",
       "          TOTPOPULAT  OVERALL_LI  \n",
       "count   6.340000e+02  634.000000  \n",
       "unique           NaN         NaN  \n",
       "top              NaN         NaN  \n",
       "freq             NaN         NaN  \n",
       "mean    1.899024e+06   73.395189  \n",
       "std     1.547475e+06   10.098460  \n",
       "min     7.948000e+03   37.220000  \n",
       "25%     8.226940e+05   66.437500  \n",
       "50%     1.564392e+06   73.490000  \n",
       "75%     2.587520e+06   80.815000  \n",
       "max     1.105413e+07   98.760000  "
      ]
     },
     "execution_count": 3,
     "metadata": {},
     "output_type": "execute_result"
    }
   ],
   "source": [
    "df.describe(include = 'all')"
   ]
  },
  {
   "cell_type": "code",
   "execution_count": 4,
   "id": "0375a374",
   "metadata": {},
   "outputs": [
    {
     "data": {
      "text/plain": [
       "<AxesSubplot: >"
      ]
     },
     "execution_count": 4,
     "metadata": {},
     "output_type": "execute_result"
    },
    {
     "data": {
      "image/png": "[encoded data removed]",
      "text/plain": [
       "<Figure size 640x480 with 1 Axes>"
      ]
     },
     "metadata": {},
     "output_type": "display_data"
    }
   ],
   "source": [
    "df.boxplot('OVERALL_LI')"
   ]
  },
  {
   "cell_type": "code",
   "execution_count": 10,
   "id": "d1b04880",
   "metadata": {},
   "outputs": [
    {
     "data": {
      "text/plain": [
       "61.540000000000006"
      ]
     },
     "execution_count": 10,
     "metadata": {},
     "output_type": "execute_result"
    }
   ],
   "source": [
    "df['OVERALL_LI'].max() - df['OVERALL_LI'].min()"
   ]
  },
  {
   "cell_type": "code",
   "execution_count": 19,
   "id": "839eb61d",
   "metadata": {},
   "outputs": [
    {
     "data": {
      "image/png": "[encoded data removed]",
      "text/plain": [
       "<Figure size 640x480 with 1 Axes>"
      ]
     },
     "metadata": {},
     "output_type": "display_data"
    }
   ],
   "source": [
    "df['OVERALL_LI'].hist()\n",
    "plt.xlabel('Literacy Rate')\n",
    "plt.ylabel('Count')\n",
    "plt.show()"
   ]
  },
  {
   "cell_type": "markdown",
   "id": "9a5fdd95",
   "metadata": {},
   "source": [
    "Histogram is bell shaped and symmetric about the mean (73.4%) ie this is a normal distribution"
   ]
  },
  {
   "cell_type": "code",
   "execution_count": 33,
   "id": "037d8d59",
   "metadata": {},
   "outputs": [
    {
     "name": "stdout",
     "output_type": "stream",
     "text": [
      "Percent of observations within one Standard Deviation of mean = 61.91%\n"
     ]
    }
   ],
   "source": [
    "print('Percent of observations within one Standard Deviation of mean = {:.2f}%'.format( \n",
    "    ( (df['OVERALL_LI'] > (df['OVERALL_LI'].mean() - df['OVERALL_LI'].std())) & \n",
    "      (df['OVERALL_LI'] < (df['OVERALL_LI'].mean() + df['OVERALL_LI'].std())) ).mean() * 100) )"
   ]
  },
  {
   "cell_type": "markdown",
   "id": "1d7495a0",
   "metadata": {},
   "source": [
    "About 62% of observations lie within one Standard Deviation of mean which is close to the usual value of 68% for a normal distribution."
   ]
  },
  {
   "cell_type": "markdown",
   "id": "c258e6ef",
   "metadata": {},
   "source": [
    "# Week 2: Z-score and Empherical rule"
   ]
  },
  {
   "cell_type": "code",
   "execution_count": 3,
   "id": "41b3088e",
   "metadata": {},
   "outputs": [],
   "source": [
    "from scipy import stats\n",
    "import statsmodels.api as sm"
   ]
  },
  {
   "cell_type": "code",
   "execution_count": 4,
   "id": "d8cfdf03",
   "metadata": {},
   "outputs": [
    {
     "data": {
      "text/html": [
       "<div>\n",
       "<style scoped>\n",
       "    .dataframe tbody tr th:only-of-type {\n",
       "        vertical-align: middle;\n",
       "    }\n",
       "\n",
       "    .dataframe tbody tr th {\n",
       "        vertical-align: top;\n",
       "    }\n",
       "\n",
       "    .dataframe thead th {\n",
       "        text-align: right;\n",
       "    }\n",
       "</style>\n",
       "<table border=\"1\" class=\"dataframe\">\n",
       "  <thead>\n",
       "    <tr style=\"text-align: right;\">\n",
       "      <th></th>\n",
       "      <th>distname</th>\n",
       "      <th>statname</th>\n",
       "      <th>blocks</th>\n",
       "      <th>villages</th>\n",
       "      <th>clusters</th>\n",
       "      <th>totpopulat</th>\n",
       "      <th>overall_li</th>\n",
       "    </tr>\n",
       "  </thead>\n",
       "  <tbody>\n",
       "    <tr>\n",
       "      <th>0</th>\n",
       "      <td>KUPWARA</td>\n",
       "      <td>JAMMU &amp; KASHMIR</td>\n",
       "      <td>13</td>\n",
       "      <td>391</td>\n",
       "      <td>104</td>\n",
       "      <td>875564.0</td>\n",
       "      <td>66.92</td>\n",
       "    </tr>\n",
       "    <tr>\n",
       "      <th>1</th>\n",
       "      <td>BARAMULA</td>\n",
       "      <td>JAMMU &amp; KASHMIR</td>\n",
       "      <td>18</td>\n",
       "      <td>678</td>\n",
       "      <td>144</td>\n",
       "      <td>1015503.0</td>\n",
       "      <td>66.93</td>\n",
       "    </tr>\n",
       "    <tr>\n",
       "      <th>2</th>\n",
       "      <td>SRINAGAR</td>\n",
       "      <td>JAMMU &amp; KASHMIR</td>\n",
       "      <td>8</td>\n",
       "      <td>94</td>\n",
       "      <td>65</td>\n",
       "      <td>1269751.0</td>\n",
       "      <td>71.21</td>\n",
       "    </tr>\n",
       "    <tr>\n",
       "      <th>3</th>\n",
       "      <td>BADGAM</td>\n",
       "      <td>JAMMU &amp; KASHMIR</td>\n",
       "      <td>13</td>\n",
       "      <td>523</td>\n",
       "      <td>104</td>\n",
       "      <td>735753.0</td>\n",
       "      <td>57.98</td>\n",
       "    </tr>\n",
       "    <tr>\n",
       "      <th>4</th>\n",
       "      <td>PULWAMA</td>\n",
       "      <td>JAMMU &amp; KASHMIR</td>\n",
       "      <td>8</td>\n",
       "      <td>359</td>\n",
       "      <td>64</td>\n",
       "      <td>570060.0</td>\n",
       "      <td>65.00</td>\n",
       "    </tr>\n",
       "  </tbody>\n",
       "</table>\n",
       "</div>"
      ],
      "text/plain": [
       "   distname         statname  blocks  villages  clusters  totpopulat  \\\n",
       "0   KUPWARA  JAMMU & KASHMIR      13       391       104    875564.0   \n",
       "1  BARAMULA  JAMMU & KASHMIR      18       678       144   1015503.0   \n",
       "2  SRINAGAR  JAMMU & KASHMIR       8        94        65   1269751.0   \n",
       "3    BADGAM  JAMMU & KASHMIR      13       523       104    735753.0   \n",
       "4   PULWAMA  JAMMU & KASHMIR       8       359        64    570060.0   \n",
       "\n",
       "   overall_li  \n",
       "0       66.92  \n",
       "1       66.93  \n",
       "2       71.21  \n",
       "3       57.98  \n",
       "4       65.00  "
      ]
     },
     "execution_count": 4,
     "metadata": {},
     "output_type": "execute_result"
    }
   ],
   "source": [
    "df2 = df.dropna().copy()\n",
    "df2.columns = df2.columns.str.lower()\n",
    "df2.head()"
   ]
  },
  {
   "cell_type": "code",
   "execution_count": 15,
   "id": "455996fa",
   "metadata": {},
   "outputs": [
    {
     "data": {
      "image/png": "[encoded data removed]",
      "text/plain": [
       "<Figure size 640x480 with 1 Axes>"
      ]
     },
     "metadata": {},
     "output_type": "display_data"
    }
   ],
   "source": [
    "df2.overall_li.hist()\n",
    "plt.show()"
   ]
  },
  {
   "cell_type": "code",
   "execution_count": 21,
   "id": "e5d4dcad",
   "metadata": {},
   "outputs": [
    {
     "name": "stdout",
     "output_type": "stream",
     "text": [
      "Percent of observations within one Standard Deviation of mean = 66.40%\n"
     ]
    }
   ],
   "source": [
    "print('Percent of observations within one Standard Deviation of mean = {:.2f}%'.format( \n",
    "    ( (df2['overall_li'] > (df2['overall_li'].mean() - df2['overall_li'].std())) & \n",
    "      (df2['overall_li'] < (df2['overall_li'].mean() + df2['overall_li'].std())) ).mean() * 100) )"
   ]
  },
  {
   "cell_type": "code",
   "execution_count": 5,
   "id": "91d0c39e",
   "metadata": {},
   "outputs": [],
   "source": [
    "df2['z_score'] = stats.zscore(df2.overall_li) #(df2.overall_li - df2.overall_li.mean()) / df2.overall_li.std()"
   ]
  },
  {
   "cell_type": "code",
   "execution_count": 28,
   "id": "5bc362f5",
   "metadata": {},
   "outputs": [
    {
     "data": {
      "text/html": [
       "<div>\n",
       "<style scoped>\n",
       "    .dataframe tbody tr th:only-of-type {\n",
       "        vertical-align: middle;\n",
       "    }\n",
       "\n",
       "    .dataframe tbody tr th {\n",
       "        vertical-align: top;\n",
       "    }\n",
       "\n",
       "    .dataframe thead th {\n",
       "        text-align: right;\n",
       "    }\n",
       "</style>\n",
       "<table border=\"1\" class=\"dataframe\">\n",
       "  <thead>\n",
       "    <tr style=\"text-align: right;\">\n",
       "      <th></th>\n",
       "      <th>distname</th>\n",
       "      <th>statname</th>\n",
       "      <th>blocks</th>\n",
       "      <th>villages</th>\n",
       "      <th>clusters</th>\n",
       "      <th>totpopulat</th>\n",
       "      <th>overall_li</th>\n",
       "      <th>z_score</th>\n",
       "    </tr>\n",
       "  </thead>\n",
       "  <tbody>\n",
       "    <tr>\n",
       "      <th>434</th>\n",
       "      <td>DANTEWADA</td>\n",
       "      <td>CHHATTISGARH</td>\n",
       "      <td>4</td>\n",
       "      <td>360</td>\n",
       "      <td>53</td>\n",
       "      <td>532791.0</td>\n",
       "      <td>42.67</td>\n",
       "      <td>-3.044964</td>\n",
       "    </tr>\n",
       "    <tr>\n",
       "      <th>494</th>\n",
       "      <td>ALIRAJPUR</td>\n",
       "      <td>MADHYA PRADESH</td>\n",
       "      <td>6</td>\n",
       "      <td>612</td>\n",
       "      <td>62</td>\n",
       "      <td>728677.0</td>\n",
       "      <td>37.22</td>\n",
       "      <td>-3.585076</td>\n",
       "    </tr>\n",
       "  </tbody>\n",
       "</table>\n",
       "</div>"
      ],
      "text/plain": [
       "      distname        statname  blocks  villages  clusters  totpopulat  \\\n",
       "434  DANTEWADA    CHHATTISGARH       4       360        53    532791.0   \n",
       "494  ALIRAJPUR  MADHYA PRADESH       6       612        62    728677.0   \n",
       "\n",
       "     overall_li   z_score  \n",
       "434       42.67 -3.044964  \n",
       "494       37.22 -3.585076  "
      ]
     },
     "execution_count": 28,
     "metadata": {},
     "output_type": "execute_result"
    }
   ],
   "source": [
    "df2[np.abs(df2.z_score) > 3]"
   ]
  },
  {
   "cell_type": "markdown",
   "id": "cd7efb53",
   "metadata": {},
   "source": [
    "Empherical Rule: 68% of observations fall within 1 std of the mean, 95% within 2 and 99.7% within 3.\n",
    "\n",
    "This is verified for this dataset."
   ]
  },
  {
   "cell_type": "markdown",
   "id": "b3027e2f",
   "metadata": {},
   "source": [
    "# Week 3: Samples and their distibution"
   ]
  },
  {
   "cell_type": "code",
   "execution_count": 5,
   "id": "ed37ee5e",
   "metadata": {},
   "outputs": [
    {
     "data": {
      "text/html": [
       "<div>\n",
       "<style scoped>\n",
       "    .dataframe tbody tr th:only-of-type {\n",
       "        vertical-align: middle;\n",
       "    }\n",
       "\n",
       "    .dataframe tbody tr th {\n",
       "        vertical-align: top;\n",
       "    }\n",
       "\n",
       "    .dataframe thead th {\n",
       "        text-align: right;\n",
       "    }\n",
       "</style>\n",
       "<table border=\"1\" class=\"dataframe\">\n",
       "  <thead>\n",
       "    <tr style=\"text-align: right;\">\n",
       "      <th></th>\n",
       "      <th>distname</th>\n",
       "      <th>statname</th>\n",
       "      <th>blocks</th>\n",
       "      <th>villages</th>\n",
       "      <th>clusters</th>\n",
       "      <th>totpopulat</th>\n",
       "      <th>overall_li</th>\n",
       "    </tr>\n",
       "  </thead>\n",
       "  <tbody>\n",
       "    <tr>\n",
       "      <th>494</th>\n",
       "      <td>ALIRAJPUR</td>\n",
       "      <td>MADHYA PRADESH</td>\n",
       "      <td>6</td>\n",
       "      <td>612</td>\n",
       "      <td>62</td>\n",
       "      <td>728677.0</td>\n",
       "      <td>37.22</td>\n",
       "    </tr>\n",
       "    <tr>\n",
       "      <th>309</th>\n",
       "      <td>WEST KHASI HILLS</td>\n",
       "      <td>MEGHALAYA</td>\n",
       "      <td>4</td>\n",
       "      <td>806</td>\n",
       "      <td>73</td>\n",
       "      <td>385601.0</td>\n",
       "      <td>79.30</td>\n",
       "    </tr>\n",
       "    <tr>\n",
       "      <th>583</th>\n",
       "      <td>BAGALKOT</td>\n",
       "      <td>KARNATAKA</td>\n",
       "      <td>6</td>\n",
       "      <td>785</td>\n",
       "      <td>126</td>\n",
       "      <td>1890826.0</td>\n",
       "      <td>69.39</td>\n",
       "    </tr>\n",
       "    <tr>\n",
       "      <th>37</th>\n",
       "      <td>JALANDHAR</td>\n",
       "      <td>PUNJAB</td>\n",
       "      <td>11</td>\n",
       "      <td>982</td>\n",
       "      <td>156</td>\n",
       "      <td>2181753.0</td>\n",
       "      <td>82.40</td>\n",
       "    </tr>\n",
       "    <tr>\n",
       "      <th>366</th>\n",
       "      <td>PALAMU</td>\n",
       "      <td>JHARKHAND</td>\n",
       "      <td>20</td>\n",
       "      <td>1634</td>\n",
       "      <td>144</td>\n",
       "      <td>1936319.0</td>\n",
       "      <td>65.50</td>\n",
       "    </tr>\n",
       "  </tbody>\n",
       "</table>\n",
       "</div>"
      ],
      "text/plain": [
       "             distname        statname  blocks  villages  clusters  totpopulat  \\\n",
       "494         ALIRAJPUR  MADHYA PRADESH       6       612        62    728677.0   \n",
       "309  WEST KHASI HILLS       MEGHALAYA       4       806        73    385601.0   \n",
       "583          BAGALKOT       KARNATAKA       6       785       126   1890826.0   \n",
       "37          JALANDHAR          PUNJAB      11       982       156   2181753.0   \n",
       "366            PALAMU       JHARKHAND      20      1634       144   1936319.0   \n",
       "\n",
       "     overall_li  \n",
       "494       37.22  \n",
       "309       79.30  \n",
       "583       69.39  \n",
       "37        82.40  \n",
       "366       65.50  "
      ]
     },
     "execution_count": 5,
     "metadata": {},
     "output_type": "execute_result"
    }
   ],
   "source": [
    "sample_df = df2.sample(50, replace = True, random_state = 55)\n",
    "sample_df.head()"
   ]
  },
  {
   "cell_type": "code",
   "execution_count": 6,
   "id": "b75cca95",
   "metadata": {},
   "outputs": [
    {
     "data": {
      "text/plain": [
       "71.04679999999999"
      ]
     },
     "execution_count": 6,
     "metadata": {},
     "output_type": "execute_result"
    }
   ],
   "source": [
    "sample_df.overall_li.mean()"
   ]
  },
  {
   "cell_type": "code",
   "execution_count": 15,
   "id": "ec062455",
   "metadata": {},
   "outputs": [
    {
     "data": {
      "text/plain": [
       "74.79140000000001"
      ]
     },
     "execution_count": 15,
     "metadata": {},
     "output_type": "execute_result"
    }
   ],
   "source": [
    "df2.sample(50, replace = True, random_state = 66).overall_li.mean()"
   ]
  },
  {
   "cell_type": "code",
   "execution_count": 27,
   "id": "a424556d",
   "metadata": {},
   "outputs": [],
   "source": [
    "sample_dist = np.zeros(10000)\n",
    "for i in range(10000):\n",
    "    rn = np.random.randint(10000)\n",
    "    sample_dist[i] = df2.sample(50, replace = True, random_state = rn).overall_li.mean()\n",
    "\n",
    "sample_estimate = pd.DataFrame(sample_dist)"
   ]
  },
  {
   "cell_type": "code",
   "execution_count": 50,
   "id": "c740eabe",
   "metadata": {},
   "outputs": [
    {
     "data": {
      "text/plain": [
       "73.39441460000022"
      ]
     },
     "execution_count": 50,
     "metadata": {},
     "output_type": "execute_result"
    }
   ],
   "source": [
    "sample_est_mean = sample_estimate[0].mean()\n",
    "sample_est_mean"
   ]
  },
  {
   "cell_type": "code",
   "execution_count": 49,
   "id": "ced5bf6a",
   "metadata": {},
   "outputs": [
    {
     "data": {
      "image/png": "[encoded data removed]",
      "text/plain": [
       "<Figure size 640x480 with 1 Axes>"
      ]
     },
     "metadata": {},
     "output_type": "display_data"
    }
   ],
   "source": [
    "plt.hist(sample_estimate)\n",
    "plt.xlabel('Sample mean')\n",
    "plt.ylabel('Count')\n",
    "plt.axvline(x = sample_est_mean, color = 'r', label = 'Mean of sample estimate');\n",
    "plt.legend();"
   ]
  },
  {
   "cell_type": "markdown",
   "id": "d569ed65",
   "metadata": {},
   "source": [
    "Thus we see that the men of sampling distribution is roughly equal to the population mean and follows a normal distribution."
   ]
  },
  {
   "cell_type": "markdown",
   "id": "09808e3a",
   "metadata": {},
   "source": [
    "# Week 4: Calculate confidence intervals for samples"
   ]
  },
  {
   "cell_type": "code",
   "execution_count": 15,
   "id": "d56919da",
   "metadata": {},
   "outputs": [
    {
     "name": "stdout",
     "output_type": "stream",
     "text": [
      "95% Confidence Interval for Mean Literacy Rate: [67.57%, 74.53%]\n"
     ]
    }
   ],
   "source": [
    "print(\"95% Confidence Interval for Mean Literacy Rate: [{:.2f}%, {:.2f}%]\".format(\n",
    "                     sample_df.overall_li.mean()  - 1.96 * sample_df.overall_li.std()/np.sqrt(sample_df.shape[0]), \n",
    "                     sample_df.overall_li.mean()  + 1.96 * sample_df.overall_li.std()/np.sqrt(sample_df.shape[0]) ) )"
   ]
  },
  {
   "cell_type": "code",
   "execution_count": 23,
   "id": "3cda75c5",
   "metadata": {},
   "outputs": [
    {
     "name": "stdout",
     "output_type": "stream",
     "text": [
      "99% Confidence Interval for Mean Literacy Rate: [66.47%, 75.62%]\n"
     ]
    }
   ],
   "source": [
    "CI_99 = stats.norm.interval(confidence = 0.99, loc = sample_df.overall_li.mean(), \n",
    "                            scale = sample_df.overall_li.std()/np.sqrt(sample_df.shape[0]))\n",
    "print(\"99% Confidence Interval for Mean Literacy Rate: [{:.2f}%, {:.2f}%]\".format(CI_99[0], CI_99[1]))"
   ]
  },
  {
   "cell_type": "markdown",
   "id": "be88faa7",
   "metadata": {},
   "source": [
    "### Definition of Confidence Intervals\n",
    "95% CI means that if we take repeated random samples from a popualation, then constuct the CI for each sample using same method, then we can expect the 95% of these intervals will contain the population parameter."
   ]
  },
  {
   "cell_type": "markdown",
   "id": "98174233",
   "metadata": {},
   "source": [
    "Read further on CI including t-scores\n",
    "Like: https://www.scribbr.com/statistics/t-distribution/"
   ]
  },
  {
   "cell_type": "markdown",
   "id": "371abb97",
   "metadata": {},
   "source": [
    "# Week 5: Conduct two sample hypothesis test"
   ]
  },
  {
   "cell_type": "code",
   "execution_count": 17,
   "id": "3bdbaa63",
   "metadata": {},
   "outputs": [
    {
     "data": {
      "text/html": [
       "<div>\n",
       "<style scoped>\n",
       "    .dataframe tbody tr th:only-of-type {\n",
       "        vertical-align: middle;\n",
       "    }\n",
       "\n",
       "    .dataframe tbody tr th {\n",
       "        vertical-align: top;\n",
       "    }\n",
       "\n",
       "    .dataframe thead th {\n",
       "        text-align: right;\n",
       "    }\n",
       "</style>\n",
       "<table border=\"1\" class=\"dataframe\">\n",
       "  <thead>\n",
       "    <tr style=\"text-align: right;\">\n",
       "      <th></th>\n",
       "      <th>Dist_count</th>\n",
       "      <th>LR_mean</th>\n",
       "    </tr>\n",
       "    <tr>\n",
       "      <th>statname</th>\n",
       "      <th></th>\n",
       "      <th></th>\n",
       "    </tr>\n",
       "  </thead>\n",
       "  <tbody>\n",
       "    <tr>\n",
       "      <th>UTTAR PRADESH</th>\n",
       "      <td>71</td>\n",
       "      <td>69.487183</td>\n",
       "    </tr>\n",
       "    <tr>\n",
       "      <th>MADHYA PRADESH</th>\n",
       "      <td>50</td>\n",
       "      <td>68.978400</td>\n",
       "    </tr>\n",
       "    <tr>\n",
       "      <th>BIHAR</th>\n",
       "      <td>38</td>\n",
       "      <td>63.778947</td>\n",
       "    </tr>\n",
       "    <tr>\n",
       "      <th>MAHARASHTRA</th>\n",
       "      <td>35</td>\n",
       "      <td>81.204857</td>\n",
       "    </tr>\n",
       "    <tr>\n",
       "      <th>RAJASTHAN</th>\n",
       "      <td>33</td>\n",
       "      <td>65.507273</td>\n",
       "    </tr>\n",
       "    <tr>\n",
       "      <th>KARNATAKA</th>\n",
       "      <td>30</td>\n",
       "      <td>73.798333</td>\n",
       "    </tr>\n",
       "    <tr>\n",
       "      <th>TAMIL NADU</th>\n",
       "      <td>30</td>\n",
       "      <td>79.848333</td>\n",
       "    </tr>\n",
       "    <tr>\n",
       "      <th>ASSAM</th>\n",
       "      <td>27</td>\n",
       "      <td>73.204815</td>\n",
       "    </tr>\n",
       "    <tr>\n",
       "      <th>ODISHA</th>\n",
       "      <td>27</td>\n",
       "      <td>70.844074</td>\n",
       "    </tr>\n",
       "    <tr>\n",
       "      <th>GUJARAT</th>\n",
       "      <td>26</td>\n",
       "      <td>77.627308</td>\n",
       "    </tr>\n",
       "    <tr>\n",
       "      <th>JHARKHAND</th>\n",
       "      <td>24</td>\n",
       "      <td>65.885833</td>\n",
       "    </tr>\n",
       "    <tr>\n",
       "      <th>JAMMU &amp; KASHMIR</th>\n",
       "      <td>22</td>\n",
       "      <td>67.086364</td>\n",
       "    </tr>\n",
       "    <tr>\n",
       "      <th>HARYANA</th>\n",
       "      <td>21</td>\n",
       "      <td>76.460952</td>\n",
       "    </tr>\n",
       "    <tr>\n",
       "      <th>PUNJAB</th>\n",
       "      <td>20</td>\n",
       "      <td>75.616000</td>\n",
       "    </tr>\n",
       "    <tr>\n",
       "      <th>WEST BENGAL</th>\n",
       "      <td>20</td>\n",
       "      <td>76.130500</td>\n",
       "    </tr>\n",
       "    <tr>\n",
       "      <th>CHHATTISGARH</th>\n",
       "      <td>16</td>\n",
       "      <td>69.218125</td>\n",
       "    </tr>\n",
       "    <tr>\n",
       "      <th>ARUNACHAL PRADESH</th>\n",
       "      <td>16</td>\n",
       "      <td>65.330000</td>\n",
       "    </tr>\n",
       "    <tr>\n",
       "      <th>KERALA</th>\n",
       "      <td>14</td>\n",
       "      <td>93.648571</td>\n",
       "    </tr>\n",
       "    <tr>\n",
       "      <th>ANDHRA PRADESH</th>\n",
       "      <td>13</td>\n",
       "      <td>67.373077</td>\n",
       "    </tr>\n",
       "    <tr>\n",
       "      <th>UTTARAKHAND</th>\n",
       "      <td>13</td>\n",
       "      <td>80.292308</td>\n",
       "    </tr>\n",
       "    <tr>\n",
       "      <th>HIMACHAL PRADESH</th>\n",
       "      <td>12</td>\n",
       "      <td>82.675000</td>\n",
       "    </tr>\n",
       "    <tr>\n",
       "      <th>NAGALAND</th>\n",
       "      <td>11</td>\n",
       "      <td>79.108182</td>\n",
       "    </tr>\n",
       "    <tr>\n",
       "      <th>TELANGANA</th>\n",
       "      <td>10</td>\n",
       "      <td>66.294000</td>\n",
       "    </tr>\n",
       "    <tr>\n",
       "      <th>DELHI</th>\n",
       "      <td>9</td>\n",
       "      <td>86.734444</td>\n",
       "    </tr>\n",
       "    <tr>\n",
       "      <th>MANIPUR</th>\n",
       "      <td>9</td>\n",
       "      <td>78.325556</td>\n",
       "    </tr>\n",
       "    <tr>\n",
       "      <th>MIZORAM</th>\n",
       "      <td>8</td>\n",
       "      <td>89.436250</td>\n",
       "    </tr>\n",
       "    <tr>\n",
       "      <th>MEGHALAYA</th>\n",
       "      <td>7</td>\n",
       "      <td>74.394286</td>\n",
       "    </tr>\n",
       "    <tr>\n",
       "      <th>TRIPURA</th>\n",
       "      <td>4</td>\n",
       "      <td>87.357500</td>\n",
       "    </tr>\n",
       "    <tr>\n",
       "      <th>PUDUCHERRY</th>\n",
       "      <td>4</td>\n",
       "      <td>88.142500</td>\n",
       "    </tr>\n",
       "    <tr>\n",
       "      <th>SIKKIM</th>\n",
       "      <td>4</td>\n",
       "      <td>80.702500</td>\n",
       "    </tr>\n",
       "    <tr>\n",
       "      <th>A &amp; N ISLANDS</th>\n",
       "      <td>3</td>\n",
       "      <td>83.413333</td>\n",
       "    </tr>\n",
       "    <tr>\n",
       "      <th>GOA</th>\n",
       "      <td>2</td>\n",
       "      <td>87.190000</td>\n",
       "    </tr>\n",
       "    <tr>\n",
       "      <th>DAMAN &amp; DIU</th>\n",
       "      <td>2</td>\n",
       "      <td>85.710000</td>\n",
       "    </tr>\n",
       "    <tr>\n",
       "      <th>DADRA &amp; NAGAR HAVELI</th>\n",
       "      <td>1</td>\n",
       "      <td>77.650000</td>\n",
       "    </tr>\n",
       "    <tr>\n",
       "      <th>CHANDIGARH</th>\n",
       "      <td>1</td>\n",
       "      <td>86.430000</td>\n",
       "    </tr>\n",
       "    <tr>\n",
       "      <th>LAKSHADWEEP</th>\n",
       "      <td>1</td>\n",
       "      <td>92.280000</td>\n",
       "    </tr>\n",
       "  </tbody>\n",
       "</table>\n",
       "</div>"
      ],
      "text/plain": [
       "                      Dist_count    LR_mean\n",
       "statname                                   \n",
       "UTTAR PRADESH                 71  69.487183\n",
       "MADHYA PRADESH                50  68.978400\n",
       "BIHAR                         38  63.778947\n",
       "MAHARASHTRA                   35  81.204857\n",
       "RAJASTHAN                     33  65.507273\n",
       "KARNATAKA                     30  73.798333\n",
       "TAMIL NADU                    30  79.848333\n",
       "ASSAM                         27  73.204815\n",
       "ODISHA                        27  70.844074\n",
       "GUJARAT                       26  77.627308\n",
       "JHARKHAND                     24  65.885833\n",
       "JAMMU & KASHMIR               22  67.086364\n",
       "HARYANA                       21  76.460952\n",
       "PUNJAB                        20  75.616000\n",
       "WEST BENGAL                   20  76.130500\n",
       "CHHATTISGARH                  16  69.218125\n",
       "ARUNACHAL PRADESH             16  65.330000\n",
       "KERALA                        14  93.648571\n",
       "ANDHRA PRADESH                13  67.373077\n",
       "UTTARAKHAND                   13  80.292308\n",
       "HIMACHAL PRADESH              12  82.675000\n",
       "NAGALAND                      11  79.108182\n",
       "TELANGANA                     10  66.294000\n",
       "DELHI                          9  86.734444\n",
       "MANIPUR                        9  78.325556\n",
       "MIZORAM                        8  89.436250\n",
       "MEGHALAYA                      7  74.394286\n",
       "TRIPURA                        4  87.357500\n",
       "PUDUCHERRY                     4  88.142500\n",
       "SIKKIM                         4  80.702500\n",
       "A & N ISLANDS                  3  83.413333\n",
       "GOA                            2  87.190000\n",
       "DAMAN & DIU                    2  85.710000\n",
       "DADRA & NAGAR HAVELI           1  77.650000\n",
       "CHANDIGARH                     1  86.430000\n",
       "LAKSHADWEEP                    1  92.280000"
      ]
     },
     "execution_count": 17,
     "metadata": {},
     "output_type": "execute_result"
    }
   ],
   "source": [
    "#df2.groupby('statname')['distname'].count().sort_values(ascending = False)\n",
    "df2.groupby('statname').agg(Dist_count = ('distname', 'count'), LR_mean = ('overall_li', np.mean)).sort_values('Dist_count', ascending = False)"
   ]
  },
  {
   "cell_type": "code",
   "execution_count": 21,
   "id": "e0fa5454",
   "metadata": {},
   "outputs": [],
   "source": [
    "UP_df = df2[df2['statname'] == 'UTTAR PRADESH']\n",
    "Bi_df = df2[df2['statname'] == 'BIHAR']"
   ]
  },
  {
   "cell_type": "code",
   "execution_count": 41,
   "id": "9fdfd476",
   "metadata": {},
   "outputs": [],
   "source": [
    "UP_sample = UP_df.sample(20, random_state = 481, replace = True)\n",
    "Bi_sample = Bi_df.sample(20, random_state = 234, replace = True)"
   ]
  },
  {
   "cell_type": "code",
   "execution_count": 42,
   "id": "754b0008",
   "metadata": {},
   "outputs": [
    {
     "data": {
      "text/plain": [
       "68.9515"
      ]
     },
     "execution_count": 42,
     "metadata": {},
     "output_type": "execute_result"
    }
   ],
   "source": [
    "UP_sample.overall_li.mean()"
   ]
  },
  {
   "cell_type": "code",
   "execution_count": 43,
   "id": "ce696684",
   "metadata": {},
   "outputs": [
    {
     "data": {
      "text/plain": [
       "63.607499999999995"
      ]
     },
     "execution_count": 43,
     "metadata": {},
     "output_type": "execute_result"
    }
   ],
   "source": [
    "#stats.zscore(Bi_sample.overall_li)\n",
    "Bi_sample.overall_li.mean()"
   ]
  },
  {
   "cell_type": "code",
   "execution_count": 45,
   "id": "507c92fc",
   "metadata": {},
   "outputs": [
    {
     "data": {
      "text/plain": [
       "5.344000000000001"
      ]
     },
     "execution_count": 45,
     "metadata": {},
     "output_type": "execute_result"
    }
   ],
   "source": [
    "UP_sample.overall_li.mean() - Bi_sample.overall_li.mean()"
   ]
  },
  {
   "cell_type": "code",
   "execution_count": 46,
   "id": "0255cc03",
   "metadata": {},
   "outputs": [
    {
     "data": {
      "text/plain": [
       "Ttest_indResult(statistic=2.3296516207372755, pvalue=0.025237784218082312)"
      ]
     },
     "execution_count": 46,
     "metadata": {},
     "output_type": "execute_result"
    }
   ],
   "source": [
    "stats.ttest_ind(UP_sample.overall_li, Bi_sample.overall_li)"
   ]
  },
  {
   "cell_type": "markdown",
   "id": "c66d7e98",
   "metadata": {},
   "source": [
    "## Steps for conducting an hypothesis test\n",
    "1. State the null and alternative hypothesis.\n",
    "2. Choose a significance level.\n",
    "3. Calculate the p-value.\n",
    "4. Reject or fail to reject the null hypothesis."
   ]
  },
  {
   "cell_type": "markdown",
   "id": "b7fb0114",
   "metadata": {},
   "source": [
    "Null: No diffrence in mean literacy rates of the two states.\n",
    "\n",
    "Alternative: !Null\n",
    "\n",
    "Significance Level = 5%\n",
    "\n",
    "p-value: 2.52% \n",
    "\n",
    "## Conclusion\n",
    "So there is just 2.52% chance that the absolute diffrence of 5.34% in theliteracy rates of the two states is entirely due to chance. This is less than the significance level. So null hypothesis is rejected that is difference is statstically significant. Hence govt. is advised to invest more in educatioin of Bihar."
   ]
  }
 ],
 "metadata": {
  "kernelspec": {
   "display_name": "Python 3 (ipykernel)",
   "language": "python",
   "name": "python3"
  },
  "language_info": {
   "codemirror_mode": {
    "name": "ipython",
    "version": 3
   },
   "file_extension": ".py",
   "mimetype": "text/x-python",
   "name": "python",
   "nbconvert_exporter": "python",
   "pygments_lexer": "ipython3",
   "version": "3.9.12"
  }
 },
 "nbformat": 4,
 "nbformat_minor": 5
}
